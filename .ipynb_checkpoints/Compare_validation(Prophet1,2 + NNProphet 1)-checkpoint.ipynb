{
 "cells": [
  {
   "cell_type": "code",
   "execution_count": 11,
   "metadata": {
    "scrolled": true
   },
   "outputs": [],
   "source": [
    "import pandas as pd\n",
    "from pandas import Series, DataFrame\n",
    "import numpy as np\n",
    "\n",
    "data=pd.read_csv('./data.csv')\n",
    "pp1=pd.read_csv('./pp1.csv')\n",
    "pp2=pd.read_csv('./pp2.csv')\n",
    "nn=pd.read_csv('./nn.csv')\n",
    "\n"
   ]
  },
  {
   "cell_type": "code",
   "execution_count": 12,
   "metadata": {
    "scrolled": true
   },
   "outputs": [
    {
     "ename": "SyntaxError",
     "evalue": "invalid syntax (<ipython-input-12-bcf07b0751e0>, line 11)",
     "output_type": "error",
     "traceback": [
      "\u001b[0;36m  File \u001b[0;32m\"<ipython-input-12-bcf07b0751e0>\"\u001b[0;36m, line \u001b[0;32m11\u001b[0m\n\u001b[0;31m    ax.plot( nn[\"yhat1\"]d.\u001b[0m\n\u001b[0m                        ^\u001b[0m\n\u001b[0;31mSyntaxError\u001b[0m\u001b[0;31m:\u001b[0m invalid syntax\n"
     ]
    }
   ],
   "source": [
    "import numpy as np\n",
    "import matplotlib.pyplot as plt\n",
    "import seaborn as sns\n",
    "\n",
    "\n",
    "fig, ax = plt.subplots(figsize=(20, 9))\n",
    "\n",
    "ax.plot( data[\"y\"])\n",
    "ax.plot( pp1[\"yhat\"])\n",
    "ax.plot( pp2[\"yhat\"])\n",
    "ax.plot( nn[\"yhat1\"])"
   ]
  },
  {
   "cell_type": "code",
   "execution_count": 13,
   "metadata": {},
   "outputs": [],
   "source": [
    "for i in range(len(data)):\n",
    "    data['y'][i]=np.power(np.e,data['y'][i])\n",
    "    pp1['yhat'][i]=np.power(np.e,pp1['yhat'][i])\n",
    "    pp2['yhat'][i]=np.power(np.e,pp2['yhat'][i])\n",
    "    nn['yhat1'][i]=np.power(np.e,nn['yhat1'][i])\n",
    "\n"
   ]
  },
  {
   "cell_type": "code",
   "execution_count": 4,
   "metadata": {},
   "outputs": [],
   "source": [
    "def rmse(predictions, targets):\n",
    "    return np.sqrt(((predictions - targets) ** 2).mean())\n"
   ]
  },
  {
   "cell_type": "code",
   "execution_count": 14,
   "metadata": {},
   "outputs": [
    {
     "name": "stdout",
     "output_type": "stream",
     "text": [
      "4002947840.13105\n",
      "4239332893.6621823\n",
      "3864710651.9877005\n"
     ]
    }
   ],
   "source": [
    "prophet1=rmse(data['y'],pp1['yhat'])\n",
    "prophet2=rmse(data['y'],pp2['yhat'])\n",
    "prophet3=rmse(data['y'],nn['yhat1'])\n",
    "\n",
    "print(prophet1)\n",
    "print(prophet2)\n",
    "print(prophet3)"
   ]
  },
  {
   "cell_type": "code",
   "execution_count": null,
   "metadata": {},
   "outputs": [],
   "source": []
  }
 ],
 "metadata": {
  "kernelspec": {
   "display_name": "Python 3",
   "language": "python",
   "name": "python3"
  },
  "language_info": {
   "codemirror_mode": {
    "name": "ipython",
    "version": 3
   },
   "file_extension": ".py",
   "mimetype": "text/x-python",
   "name": "python",
   "nbconvert_exporter": "python",
   "pygments_lexer": "ipython3",
   "version": "3.8.3"
  }
 },
 "nbformat": 4,
 "nbformat_minor": 2
}
